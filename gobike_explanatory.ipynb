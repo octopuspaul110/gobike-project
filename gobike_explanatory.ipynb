{
 "cells": [
  {
   "cell_type": "markdown",
   "id": "29a64c21",
   "metadata": {
    "slideshow": {
     "slide_type": "slide"
    }
   },
   "source": [
    "## Explanatory analysis of Ford GoBike System for greater San Francisco Bay area\n",
    "### by Adegbite paul Adekunle"
   ]
  },
  {
   "cell_type": "markdown",
   "id": "3f0c8a47",
   "metadata": {
    "slideshow": {
     "slide_type": "slide"
    }
   },
   "source": [
    "### Dataset overview\n",
    "##### This data set is a cleaned dataset containing information about individual rides made in a bike-sharing system covering the greater San Francisco Bay area.\n",
    "\n",
    "After cleaning The original dataset it now contains 17 features and 174952 bike trips in 2019 in the greater san fransisco area,The features in the dataset can be grouped into:\n",
    "\n",
    "duration: containing (duration_sec,end_time)\n",
    "station information: containing (start_station_latitude,start_station_longitude,start_station_id,end_station_id,end_station_name,start_station_name,end_station_latitude,end_station_longitude)\n",
    "user information: contining(bike_id,member_gender,user_type,bike_share_for_all_trip)\n",
    "some new features: hour,member_age,dayofweek"
   ]
  },
  {
   "cell_type": "markdown",
   "id": "019955d8",
   "metadata": {
    "slideshow": {
     "slide_type": "slide"
    }
   },
   "source": [
    "#### I'm interested in exploring the duration features and how it relates to features like hour of day,dayofweek and how these features relate to users in terms of their gender,agealso what gender takes bike the most."
   ]
  },
  {
   "cell_type": "code",
   "execution_count": 3,
   "id": "f1d6dcdc",
   "metadata": {
    "slideshow": {
     "slide_type": "skip"
    }
   },
   "outputs": [],
   "source": [
    "# import all packages and set plots to be embedded inline\n",
    "import numpy as np\n",
    "import pandas as pd\n",
    "import matplotlib.pyplot as plt\n",
    "import seaborn as sns\n",
    "\n",
    "import warnings\n",
    "warnings.filterwarnings('ignore')\n",
    "%matplotlib inline"
   ]
  },
  {
   "cell_type": "markdown",
   "id": "cd1196a8",
   "metadata": {
    "slideshow": {
     "slide_type": "skip"
    }
   },
   "source": [
    "##### The cleaned dataset will now be imported "
   ]
  },
  {
   "cell_type": "code",
   "execution_count": 58,
   "id": "fe3dbafc",
   "metadata": {
    "slideshow": {
     "slide_type": "skip"
    }
   },
   "outputs": [
    {
     "data": {
      "text/html": [
       "<div>\n",
       "<style scoped>\n",
       "    .dataframe tbody tr th:only-of-type {\n",
       "        vertical-align: middle;\n",
       "    }\n",
       "\n",
       "    .dataframe tbody tr th {\n",
       "        vertical-align: top;\n",
       "    }\n",
       "\n",
       "    .dataframe thead th {\n",
       "        text-align: right;\n",
       "    }\n",
       "</style>\n",
       "<table border=\"1\" class=\"dataframe\">\n",
       "  <thead>\n",
       "    <tr style=\"text-align: right;\">\n",
       "      <th></th>\n",
       "      <th>duration_sec</th>\n",
       "      <th>start_time</th>\n",
       "      <th>end_time</th>\n",
       "      <th>start_station_id</th>\n",
       "      <th>start_station_name</th>\n",
       "      <th>start_station_latitude</th>\n",
       "      <th>start_station_longitude</th>\n",
       "      <th>end_station_id</th>\n",
       "      <th>end_station_name</th>\n",
       "      <th>end_station_latitude</th>\n",
       "      <th>end_station_longitude</th>\n",
       "      <th>bike_id</th>\n",
       "      <th>user_type</th>\n",
       "      <th>member_birth_year</th>\n",
       "      <th>member_gender</th>\n",
       "      <th>bike_share_for_all_trip</th>\n",
       "    </tr>\n",
       "  </thead>\n",
       "  <tbody>\n",
       "    <tr>\n",
       "      <th>0</th>\n",
       "      <td>52185</td>\n",
       "      <td>2019-02-28 17:32:10.1450</td>\n",
       "      <td>2019-03-01 08:01:55.9750</td>\n",
       "      <td>21.0</td>\n",
       "      <td>Montgomery St BART Station (Market St at 2nd St)</td>\n",
       "      <td>37.789625</td>\n",
       "      <td>-122.400811</td>\n",
       "      <td>13.0</td>\n",
       "      <td>Commercial St at Montgomery St</td>\n",
       "      <td>37.794231</td>\n",
       "      <td>-122.402923</td>\n",
       "      <td>4902</td>\n",
       "      <td>Customer</td>\n",
       "      <td>1984.0</td>\n",
       "      <td>Male</td>\n",
       "      <td>No</td>\n",
       "    </tr>\n",
       "    <tr>\n",
       "      <th>1</th>\n",
       "      <td>42521</td>\n",
       "      <td>2019-02-28 18:53:21.7890</td>\n",
       "      <td>2019-03-01 06:42:03.0560</td>\n",
       "      <td>23.0</td>\n",
       "      <td>The Embarcadero at Steuart St</td>\n",
       "      <td>37.791464</td>\n",
       "      <td>-122.391034</td>\n",
       "      <td>81.0</td>\n",
       "      <td>Berry St at 4th St</td>\n",
       "      <td>37.775880</td>\n",
       "      <td>-122.393170</td>\n",
       "      <td>2535</td>\n",
       "      <td>Customer</td>\n",
       "      <td>NaN</td>\n",
       "      <td>NaN</td>\n",
       "      <td>No</td>\n",
       "    </tr>\n",
       "    <tr>\n",
       "      <th>2</th>\n",
       "      <td>61854</td>\n",
       "      <td>2019-02-28 12:13:13.2180</td>\n",
       "      <td>2019-03-01 05:24:08.1460</td>\n",
       "      <td>86.0</td>\n",
       "      <td>Market St at Dolores St</td>\n",
       "      <td>37.769305</td>\n",
       "      <td>-122.426826</td>\n",
       "      <td>3.0</td>\n",
       "      <td>Powell St BART Station (Market St at 4th St)</td>\n",
       "      <td>37.786375</td>\n",
       "      <td>-122.404904</td>\n",
       "      <td>5905</td>\n",
       "      <td>Customer</td>\n",
       "      <td>1972.0</td>\n",
       "      <td>Male</td>\n",
       "      <td>No</td>\n",
       "    </tr>\n",
       "    <tr>\n",
       "      <th>3</th>\n",
       "      <td>36490</td>\n",
       "      <td>2019-02-28 17:54:26.0100</td>\n",
       "      <td>2019-03-01 04:02:36.8420</td>\n",
       "      <td>375.0</td>\n",
       "      <td>Grove St at Masonic Ave</td>\n",
       "      <td>37.774836</td>\n",
       "      <td>-122.446546</td>\n",
       "      <td>70.0</td>\n",
       "      <td>Central Ave at Fell St</td>\n",
       "      <td>37.773311</td>\n",
       "      <td>-122.444293</td>\n",
       "      <td>6638</td>\n",
       "      <td>Subscriber</td>\n",
       "      <td>1989.0</td>\n",
       "      <td>Other</td>\n",
       "      <td>No</td>\n",
       "    </tr>\n",
       "    <tr>\n",
       "      <th>4</th>\n",
       "      <td>1585</td>\n",
       "      <td>2019-02-28 23:54:18.5490</td>\n",
       "      <td>2019-03-01 00:20:44.0740</td>\n",
       "      <td>7.0</td>\n",
       "      <td>Frank H Ogawa Plaza</td>\n",
       "      <td>37.804562</td>\n",
       "      <td>-122.271738</td>\n",
       "      <td>222.0</td>\n",
       "      <td>10th Ave at E 15th St</td>\n",
       "      <td>37.792714</td>\n",
       "      <td>-122.248780</td>\n",
       "      <td>4898</td>\n",
       "      <td>Subscriber</td>\n",
       "      <td>1974.0</td>\n",
       "      <td>Male</td>\n",
       "      <td>Yes</td>\n",
       "    </tr>\n",
       "  </tbody>\n",
       "</table>\n",
       "</div>"
      ],
      "text/plain": [
       "   duration_sec                start_time                  end_time  \\\n",
       "0         52185  2019-02-28 17:32:10.1450  2019-03-01 08:01:55.9750   \n",
       "1         42521  2019-02-28 18:53:21.7890  2019-03-01 06:42:03.0560   \n",
       "2         61854  2019-02-28 12:13:13.2180  2019-03-01 05:24:08.1460   \n",
       "3         36490  2019-02-28 17:54:26.0100  2019-03-01 04:02:36.8420   \n",
       "4          1585  2019-02-28 23:54:18.5490  2019-03-01 00:20:44.0740   \n",
       "\n",
       "   start_station_id                                start_station_name  \\\n",
       "0              21.0  Montgomery St BART Station (Market St at 2nd St)   \n",
       "1              23.0                     The Embarcadero at Steuart St   \n",
       "2              86.0                           Market St at Dolores St   \n",
       "3             375.0                           Grove St at Masonic Ave   \n",
       "4               7.0                               Frank H Ogawa Plaza   \n",
       "\n",
       "   start_station_latitude  start_station_longitude  end_station_id  \\\n",
       "0               37.789625              -122.400811            13.0   \n",
       "1               37.791464              -122.391034            81.0   \n",
       "2               37.769305              -122.426826             3.0   \n",
       "3               37.774836              -122.446546            70.0   \n",
       "4               37.804562              -122.271738           222.0   \n",
       "\n",
       "                               end_station_name  end_station_latitude  \\\n",
       "0                Commercial St at Montgomery St             37.794231   \n",
       "1                            Berry St at 4th St             37.775880   \n",
       "2  Powell St BART Station (Market St at 4th St)             37.786375   \n",
       "3                        Central Ave at Fell St             37.773311   \n",
       "4                         10th Ave at E 15th St             37.792714   \n",
       "\n",
       "   end_station_longitude  bike_id   user_type  member_birth_year  \\\n",
       "0            -122.402923     4902    Customer             1984.0   \n",
       "1            -122.393170     2535    Customer                NaN   \n",
       "2            -122.404904     5905    Customer             1972.0   \n",
       "3            -122.444293     6638  Subscriber             1989.0   \n",
       "4            -122.248780     4898  Subscriber             1974.0   \n",
       "\n",
       "  member_gender bike_share_for_all_trip  \n",
       "0          Male                      No  \n",
       "1           NaN                      No  \n",
       "2          Male                      No  \n",
       "3         Other                      No  \n",
       "4          Male                     Yes  "
      ]
     },
     "execution_count": 58,
     "metadata": {},
     "output_type": "execute_result"
    }
   ],
   "source": [
    "data = pd.read_csv('201902-fordgobike-tripdata.csv')\n",
    "data.head()"
   ]
  },
  {
   "cell_type": "code",
   "execution_count": 59,
   "id": "f5d5a367",
   "metadata": {
    "slideshow": {
     "slide_type": "skip"
    }
   },
   "outputs": [],
   "source": [
    "data_copy = data.copy()"
   ]
  },
  {
   "cell_type": "code",
   "execution_count": 60,
   "id": "ba99eb91",
   "metadata": {
    "slideshow": {
     "slide_type": "skip"
    }
   },
   "outputs": [],
   "source": [
    "data_copy.dropna(inplace = True)"
   ]
  },
  {
   "cell_type": "code",
   "execution_count": 61,
   "id": "a910c7f6",
   "metadata": {
    "slideshow": {
     "slide_type": "skip"
    }
   },
   "outputs": [],
   "source": [
    "#a function that convert start_time and end_time to datetime datatype\n",
    "data_copy['start_time'] = pd.to_datetime(data_copy['start_time'])\n",
    "data_copy['end_time'] = pd.to_datetime(data_copy['end_time'])"
   ]
  },
  {
   "cell_type": "code",
   "execution_count": 62,
   "id": "9ffd8e8b",
   "metadata": {
    "slideshow": {
     "slide_type": "skip"
    }
   },
   "outputs": [],
   "source": [
    "#convert start_station_id and end_station_id to integer datatype\n",
    "data_copy['start_station_id'] = data_copy['start_station_id'].astype('object')\n",
    "data_copy['end_station_id'] = data_copy['end_station_id'].astype('object')\n",
    "data_copy['bike_id'] = data_copy['bike_id'].astype('object')"
   ]
  },
  {
   "cell_type": "code",
   "execution_count": 63,
   "id": "8edf9fb5",
   "metadata": {
    "slideshow": {
     "slide_type": "skip"
    }
   },
   "outputs": [
    {
     "name": "stdout",
     "output_type": "stream",
     "text": [
      "['Customer' 'Subscriber']\n"
     ]
    }
   ],
   "source": [
    "#convert user_type,member_gender,bike_share_for_all_trip to categorical types\n",
    "#user_type\n",
    "print(data_copy.user_type.unique())\n",
    "data_copy.user_type = data_copy.user_type.astype('category')"
   ]
  },
  {
   "cell_type": "code",
   "execution_count": 64,
   "id": "a25797bf",
   "metadata": {
    "slideshow": {
     "slide_type": "skip"
    }
   },
   "outputs": [
    {
     "name": "stdout",
     "output_type": "stream",
     "text": [
      "['Male' 'Other' 'Female']\n"
     ]
    }
   ],
   "source": [
    "#member_gender\n",
    "print(data_copy.member_gender.unique())\n",
    "data_copy.member_gender = data_copy.member_gender.astype('category')"
   ]
  },
  {
   "cell_type": "code",
   "execution_count": 65,
   "id": "50fbe984",
   "metadata": {
    "slideshow": {
     "slide_type": "skip"
    }
   },
   "outputs": [
    {
     "name": "stdout",
     "output_type": "stream",
     "text": [
      "['No' 'Yes']\n"
     ]
    }
   ],
   "source": [
    "#bike_share_for_all_trip\n",
    "print(data_copy.bike_share_for_all_trip.unique())\n",
    "data_copy.bike_share_for_all_trip = data_copy.bike_share_for_all_trip.astype('category')"
   ]
  },
  {
   "cell_type": "code",
   "execution_count": 66,
   "id": "2df0ff54",
   "metadata": {
    "slideshow": {
     "slide_type": "skip"
    }
   },
   "outputs": [
    {
     "data": {
      "text/plain": [
       "[17, 12, 23, 22, 21, ..., 6, 4, 3, 2, 1]\n",
       "Length: 24\n",
       "Categories (24, int64): [0 < 1 < 2 < 3 ... 20 < 21 < 22 < 23]"
      ]
     },
     "execution_count": 66,
     "metadata": {},
     "output_type": "execute_result"
    }
   ],
   "source": [
    "#generate hour\n",
    "data_copy['hour'] = data_copy['start_time'].apply(lambda x:x.hour)\n",
    "#make the hour feature into an ordinal categorical type\n",
    "hour = data_copy['hour'].unique().tolist()\n",
    "hour.sort()\n",
    "#this snippet of code is from our lessons\n",
    "pd_ver = pd.__version__.split(\".\")\n",
    "if (int(pd_ver[0]) > 0) or (int(pd_ver[1]) >= 21): # v0.21 or later\n",
    "    h_class = pd.api.types.CategoricalDtype(ordered = True, categories = hour)\n",
    "    data_copy['hour'] = data_copy['hour'].astype(h_class)\n",
    "else: # pre-v0.21\n",
    "    data_copy['hour'] = data_copy['hour'].astype('category', ordered = True,categories = hour)\n",
    "data_copy['hour'].unique()"
   ]
  },
  {
   "cell_type": "code",
   "execution_count": 67,
   "id": "3d40083c",
   "metadata": {
    "slideshow": {
     "slide_type": "skip"
    }
   },
   "outputs": [
    {
     "data": {
      "text/plain": [
       "['Thursday', 'Wednesday', 'Tuesday', 'Monday', 'Sunday', 'Saturday', 'Friday']\n",
       "Categories (7, object): ['Sunday' < 'Monday' < 'Tuesday' < 'Wednesday' < 'Thursday' < 'Friday' < 'Saturday']"
      ]
     },
     "execution_count": 67,
     "metadata": {},
     "output_type": "execute_result"
    }
   ],
   "source": [
    "#generate day-of-week\n",
    "data_copy['dayOfWeek'] = data_copy.start_time.dt.day_name().astype('str')\n",
    "#make dayOfWeek into an ordinal categorical datatype\n",
    "day = ['Sunday','Monday','Tuesday','Wednesday','Thursday','Friday','Saturday']\n",
    "#this snippet of code is from our lessons\n",
    "pd_ver = pd.__version__.split(\".\")\n",
    "if (int(pd_ver[0]) > 0) or (int(pd_ver[1]) >= 21): # v0.21 or later\n",
    "    d_class = pd.api.types.CategoricalDtype(ordered = True, categories = day)\n",
    "    data_copy['dayOfWeek'] = data_copy['dayOfWeek'].astype(d_class)\n",
    "else: # pre-v0.21\n",
    "    data_copy['dayOfWeek'] = data_copy['dayOfWeek'].astype('category', ordered = True,categories = day)\n",
    "data_copy['dayOfWeek'].unique()"
   ]
  },
  {
   "cell_type": "code",
   "execution_count": 68,
   "id": "30c54912",
   "metadata": {
    "slideshow": {
     "slide_type": "skip"
    }
   },
   "outputs": [],
   "source": [
    "# convert member_birth_year to integer datatype and generate member ages from this column\n",
    "data_copy['member_birth_year'] = data_copy['member_birth_year'].astype('int')\n",
    "data_copy['member_age'] = 2022 - data_copy['member_birth_year']"
   ]
  },
  {
   "cell_type": "code",
   "execution_count": 69,
   "id": "dd2df678",
   "metadata": {
    "slideshow": {
     "slide_type": "skip"
    }
   },
   "outputs": [
    {
     "data": {
      "text/plain": [
       "'column or row passed have been dropped'"
      ]
     },
     "execution_count": 69,
     "metadata": {},
     "output_type": "execute_result"
    }
   ],
   "source": [
    "#then some columns can now be dropped\n",
    "def drop_col_rows(data,col_row,axis = None):\n",
    "    data.drop(col_row,axis = axis,inplace = True)\n",
    "    return 'column or row passed have been dropped'\n",
    "col = ['start_time','member_birth_year']\n",
    "drop_col_rows(data_copy,col,axis = 1)"
   ]
  },
  {
   "cell_type": "code",
   "execution_count": 70,
   "id": "0b301b44",
   "metadata": {
    "slideshow": {
     "slide_type": "skip"
    }
   },
   "outputs": [
    {
     "name": "stdout",
     "output_type": "stream",
     "text": [
      "<class 'pandas.core.frame.DataFrame'>\n",
      "Int64Index: 174952 entries, 0 to 183411\n",
      "Data columns (total 17 columns):\n",
      " #   Column                   Non-Null Count   Dtype         \n",
      "---  ------                   --------------   -----         \n",
      " 0   duration_sec             174952 non-null  int64         \n",
      " 1   end_time                 174952 non-null  datetime64[ns]\n",
      " 2   start_station_id         174952 non-null  object        \n",
      " 3   start_station_name       174952 non-null  object        \n",
      " 4   start_station_latitude   174952 non-null  float64       \n",
      " 5   start_station_longitude  174952 non-null  float64       \n",
      " 6   end_station_id           174952 non-null  object        \n",
      " 7   end_station_name         174952 non-null  object        \n",
      " 8   end_station_latitude     174952 non-null  float64       \n",
      " 9   end_station_longitude    174952 non-null  float64       \n",
      " 10  bike_id                  174952 non-null  object        \n",
      " 11  user_type                174952 non-null  category      \n",
      " 12  member_gender            174952 non-null  category      \n",
      " 13  bike_share_for_all_trip  174952 non-null  category      \n",
      " 14  hour                     174952 non-null  category      \n",
      " 15  dayOfWeek                174952 non-null  category      \n",
      " 16  member_age               174952 non-null  int32         \n",
      "dtypes: category(5), datetime64[ns](1), float64(4), int32(1), int64(1), object(5)\n",
      "memory usage: 17.5+ MB\n"
     ]
    }
   ],
   "source": [
    "data_copy.info()"
   ]
  },
  {
   "cell_type": "code",
   "execution_count": 71,
   "id": "44b0f860",
   "metadata": {
    "slideshow": {
     "slide_type": "skip"
    }
   },
   "outputs": [],
   "source": [
    "def titler(x_label,y_label,title):\n",
    "    plt.xlabel(x_label,fontdict = {'size':12,'weight':'bold'})\n",
    "    plt.ylabel(y_label,fontdict = {'size':12,'weight':'bold'})\n",
    "    plt.title(title,fontdict = {'size':12,'weight':'bold'})\n",
    "color = sns.color_palette()[0]"
   ]
  },
  {
   "cell_type": "markdown",
   "id": "789dc747",
   "metadata": {
    "slideshow": {
     "slide_type": "slide"
    }
   },
   "source": [
    "### The male gender mostly used this service with 74.59 percentage"
   ]
  },
  {
   "cell_type": "code",
   "execution_count": 72,
   "id": "77260fac",
   "metadata": {
    "slideshow": {
     "slide_type": "skip"
    }
   },
   "outputs": [
    {
     "data": {
      "text/plain": [
       "Male      130500\n",
       "Female     40805\n",
       "Other       3647\n",
       "Name: member_gender, dtype: int64"
      ]
     },
     "execution_count": 72,
     "metadata": {},
     "output_type": "execute_result"
    }
   ],
   "source": [
    "mem_gen_frq = data_copy.member_gender.value_counts()\n",
    "ord_frq = mem_gen_frq.index\n",
    "mem_gen_frq"
   ]
  },
  {
   "cell_type": "code",
   "execution_count": 73,
   "id": "cae0a897",
   "metadata": {
    "slideshow": {
     "slide_type": "subslide"
    }
   },
   "outputs": [
    {
     "data": {
      "image/png": "[encoded data removed]",
      "text/plain": [
       "<Figure size 576x432 with 1 Axes>"
      ]
     },
     "metadata": {
      "needs_background": "light"
     },
     "output_type": "display_data"
    }
   ],
   "source": [
    "plt.figure(figsize = (8,6))\n",
    "sns.countplot(data=data_copy,x = 'member_gender',order=ord_frq,color = 'blue')\n",
    "plt.xlabel('Count Value',fontdict = {'size':12,'weight':'bold'})\n",
    "plt.ylabel('User Gender',fontdict = {'size':12,'weight':'bold'})\n",
    "plt.title('User gender distribution',fontdict = {'size':12,'weight':'bold'});"
   ]
  },
  {
   "cell_type": "markdown",
   "id": "2b99a73f",
   "metadata": {
    "slideshow": {
     "slide_type": "slide"
    }
   },
   "source": [
    "### The service is uses mostly on thursday for days of week, the most frequent hour of use is 5pm(17)"
   ]
  },
  {
   "cell_type": "code",
   "execution_count": 74,
   "id": "3fe4fc2a",
   "metadata": {
    "slideshow": {
     "slide_type": "skip"
    }
   },
   "outputs": [],
   "source": [
    "h_counts = data_copy['hour'].value_counts(sort = False)\n",
    "ord_h_freq = h_counts.index"
   ]
  },
  {
   "cell_type": "code",
   "execution_count": 75,
   "id": "58c2530a",
   "metadata": {
    "slideshow": {
     "slide_type": "subslide"
    }
   },
   "outputs": [
    {
     "data": {
      "image/png": "[encoded data removed]",
      "text/plain": [
       "<Figure size 648x432 with 1 Axes>"
      ]
     },
     "metadata": {
      "needs_background": "light"
     },
     "output_type": "display_data"
    }
   ],
   "source": [
    "plt.figure(figsize = (9,6))\n",
    "sns.countplot(data = data_copy,x = 'hour',order=ord_h_freq,color = color)\n",
    "titler('Hour (sec)','Value Count','Ditribution of hours of use')\n",
    "plt.show()"
   ]
  },
  {
   "cell_type": "code",
   "execution_count": 78,
   "id": "6c944925",
   "metadata": {
    "slideshow": {
     "slide_type": "skip"
    }
   },
   "outputs": [
    {
     "data": {
      "text/plain": [
       "Sunday       14512\n",
       "Monday       25641\n",
       "Tuesday      30584\n",
       "Wednesday    28426\n",
       "Thursday     33712\n",
       "Friday       27663\n",
       "Saturday     14414\n",
       "Name: dayOfWeek, dtype: int64"
      ]
     },
     "execution_count": 78,
     "metadata": {},
     "output_type": "execute_result"
    }
   ],
   "source": [
    "d_counts = data_copy['dayOfWeek'].value_counts(sort = False)\n",
    "ord_d_freq = d_counts.index\n",
    "d_counts"
   ]
  },
  {
   "cell_type": "code",
   "execution_count": 79,
   "id": "e5f12367",
   "metadata": {
    "slideshow": {
     "slide_type": "subslide"
    }
   },
   "outputs": [
    {
     "data": {
      "image/png": "[encoded data removed]",
      "text/plain": [
       "<Figure size 648x432 with 1 Axes>"
      ]
     },
     "metadata": {
      "needs_background": "light"
     },
     "output_type": "display_data"
    }
   ],
   "source": [
    "plt.figure(figsize = (9,6))\n",
    "sns.countplot(data = data_copy,x = 'dayOfWeek',order=ord_d_freq,color = sns.color_palette()[0])\n",
    "plt.xlabel('Days',fontdict = dict(size = 12,weight = 'bold'))\n",
    "plt.ylabel('Value Count',fontdict = dict(size = 12,weight = 'bold'))\n",
    "plt.title('Most frequent days for bikers',fontdict = dict(size = 12,weight = 'bold'))\n",
    "plt.show()"
   ]
  },
  {
   "cell_type": "markdown",
   "id": "0f82bc62",
   "metadata": {
    "slideshow": {
     "slide_type": "slide"
    }
   },
   "source": [
    "#### Some categorical exploration shows that:\n",
    "- weekdays are the busiest between 7 am and 8pm but there isn't much trips between 10 am and 3 pm wihch should be work hours ideally.\n",
    "- on weekends,it is busy between 11pm and 2am\n",
    "- across all week days and hours,subscribers have higher trips than customers\n",
    "- Bikers who do not use bike sharer for all trips engage in more trips acrross all hours of day and days of week compared to bikers that do.\n",
    "- No customers have used bike share for all trips while some Subscribers use bike share for trips.\n",
    "- Male bikers have more trips compared to female bikers across all hours of the day and all days of the week\n",
    "- Bikers who do not specify their gender is a very small portion of Customer and subcriber while male bikers carry the mojority for both user type\n",
    "- Bikers use the service mostly on Thursday for all gender type.\n",
    "- 8am and 5pm are the hours that bikers of all gender spend most time on trips."
   ]
  },
  {
   "cell_type": "code",
   "execution_count": 80,
   "id": "c3cce2f2",
   "metadata": {
    "slideshow": {
     "slide_type": "subslide"
    }
   },
   "outputs": [
    {
     "data": {
      "image/png": "[encoded data removed]",
      "text/plain": [
       "<Figure size 720x432 with 1 Axes>"
      ]
     },
     "metadata": {
      "needs_background": "light"
     },
     "output_type": "display_data"
    }
   ],
   "source": [
    "plt.figure(figsize = (10,6))\n",
    "sns.countplot(data=data_copy,x = 'hour',hue = 'dayOfWeek',palette = 'Greens')\n",
    "titler('hours','Count','A plot of hours against weekdays')\n",
    "plt.show()"
   ]
  },
  {
   "cell_type": "markdown",
   "id": "9198a623",
   "metadata": {
    "slideshow": {
     "slide_type": "subslide"
    }
   },
   "source": [
    "- weekdays are the busiest between 7 am and 8pm but there isn't much trips between 10 am and 3 pm wihch should be work hours ideally.\n",
    "- on weekends,it is busy between 11pm and 2am\n",
    "- across all week days and hours,subscribers have higher trips than customers"
   ]
  },
  {
   "cell_type": "code",
   "execution_count": 34,
   "id": "4a546507",
   "metadata": {
    "slideshow": {
     "slide_type": "subslide"
    }
   },
   "outputs": [
    {
     "data": {
      "image/png": "[encoded data removed]",
      "text/plain": [
       "<Figure size 720x432 with 1 Axes>"
      ]
     },
     "metadata": {
      "needs_background": "light"
     },
     "output_type": "display_data"
    }
   ],
   "source": [
    "plt.figure(figsize = (10,6))\n",
    "sns.countplot(data=data_copy,x = 'dayOfWeek',hue = 'user_type',palette = 'Greens')\n",
    "plt.xlabel('Day',fontdict={'size':10,'weight':'bold'})\n",
    "plt.ylabel('Count',fontdict={'size':10,'weight':'bold'})\n",
    "plt.title('A plot of days against user type')\n",
    "plt.show()"
   ]
  },
  {
   "cell_type": "markdown",
   "id": "eb87e30d",
   "metadata": {
    "slideshow": {
     "slide_type": "subslide"
    }
   },
   "source": [
    "#### we can see that Thursday and Tuesday is the most frequent hours for both users (Subscribers and Customer)"
   ]
  },
  {
   "cell_type": "code",
   "execution_count": 81,
   "id": "4693e4c7",
   "metadata": {
    "slideshow": {
     "slide_type": "subslide"
    }
   },
   "outputs": [
    {
     "data": {
      "image/png": "[encoded data removed]",
      "text/plain": [
       "<Figure size 720x432 with 1 Axes>"
      ]
     },
     "metadata": {
      "needs_background": "light"
     },
     "output_type": "display_data"
    }
   ],
   "source": [
    "plt.figure(figsize = (10,6))\n",
    "sns.countplot(data=data_copy,x = 'dayOfWeek',hue = 'member_gender')\n",
    "titler('Days','Count','A plot of days of week against gender')\n",
    "plt.legend(loc = 'best',title = 'Gender')\n",
    "plt.show()"
   ]
  },
  {
   "cell_type": "markdown",
   "id": "699941ec",
   "metadata": {
    "slideshow": {
     "slide_type": "subslide"
    }
   },
   "source": [
    "#### 6 am and 5 pm is the most frequent hour,male users contributes to the majority of trips"
   ]
  },
  {
   "cell_type": "markdown",
   "id": "1aef5c39",
   "metadata": {
    "slideshow": {
     "slide_type": "slide"
    }
   },
   "source": [
    "Some of the observation noted during the multivariate explorarion have helped confirms some of the relationship learned from the univariate and bivariate exploration,it was observed that subscribers users do not engage in trips for long compared to customers because they mostly are old and trips are mostly done in workdays(mon -fri) between 5am -8am and 4pm-7pm which perhaps is work resumption time and end of work time.it also appears that for age,middle aged(25 -45) bikers used the service mostly for week ends(mon-fri) between 9am - 6pm and for older bikers between 6am and 5pm."
   ]
  },
  {
   "cell_type": "code",
   "execution_count": 89,
   "id": "93603d68",
   "metadata": {
    "slideshow": {
     "slide_type": "subslide"
    }
   },
   "outputs": [
    {
     "data": {
      "image/png": "[encoded data removed]",
      "text/plain": [
       "<Figure size 576x360 with 2 Axes>"
      ]
     },
     "metadata": {
      "needs_background": "light"
     },
     "output_type": "display_data"
    }
   ],
   "source": [
    "plt.figure(figsize = (8,5))\n",
    "cust_Type = data_copy.query('user_type == \"Customer\"')\n",
    "cust_counts = cust_Type.groupby(['dayOfWeek','hour']).size().reset_index(name = 'name').pivot(index = 'dayOfWeek',columns=['hour'],values = 'name')\n",
    "sns.heatmap(data=cust_counts,fmt='.0f',cmap = 'viridis_r')\n",
    "titler('Hours','Days of week','Bike trips for customers per week and hours')\n",
    "plt.show()"
   ]
  },
  {
   "cell_type": "markdown",
   "id": "a2e27923",
   "metadata": {
    "slideshow": {
     "slide_type": "subslide"
    }
   },
   "source": [
    "#### For customer users,we can see that the most frequent hour of use is 6 am to 5pm,but for weekends its between 8am and 7pm perhaps becuse users are not using the service to commute to work on weekends"
   ]
  },
  {
   "cell_type": "code",
   "execution_count": 90,
   "id": "aac91cfc",
   "metadata": {
    "slideshow": {
     "slide_type": "subslide"
    }
   },
   "outputs": [
    {
     "data": {
      "image/png": "[encoded data removed]",
      "text/plain": [
       "<Figure size 576x360 with 2 Axes>"
      ]
     },
     "metadata": {
      "needs_background": "light"
     },
     "output_type": "display_data"
    }
   ],
   "source": [
    "plt.figure(figsize = (8,5))\n",
    "cust_Type = data_copy.query('user_type == \"Subscriber\"')\n",
    "cust_counts = cust_Type.groupby(['dayOfWeek','hour']).size().reset_index(name = 'name').pivot(index = 'dayOfWeek',columns=['hour'],values = 'name')\n",
    "sns.heatmap(data=cust_counts,fmt='.0f',cmap = 'viridis_r')\n",
    "titler('Hours','Days of week','Bike trips for Subscribers per week and hours')\n",
    "plt.show()"
   ]
  },
  {
   "cell_type": "markdown",
   "id": "f2c95153",
   "metadata": {
    "slideshow": {
     "slide_type": "subslide"
    }
   },
   "source": [
    "#### for subscribers,the most frquent hour of use is 6am to 9 am and 4pm to 7pm which reinforce the thinking that most subscriber users use the service for commuting to work"
   ]
  },
  {
   "cell_type": "code",
   "execution_count": 48,
   "id": "79dba545",
   "metadata": {
    "scrolled": true,
    "slideshow": {
     "slide_type": "skip"
    }
   },
   "outputs": [
    {
     "name": "stdout",
     "output_type": "stream",
     "text": [
      "This application is used to convert notebook files (*.ipynb)\n",
      "        to various other formats.\n",
      "\n",
      "        WARNING: THE COMMANDLINE INTERFACE MAY CHANGE IN FUTURE RELEASES."
     ]
    },
    {
     "name": "stderr",
     "output_type": "stream",
     "text": [
      "[NbConvertApp] WARNING | pattern 'gobike' matched no files\n",
      "[NbConvertApp] WARNING | pattern 'explanatory.ipynb' matched no files\n"
     ]
    },
    {
     "name": "stdout",
     "output_type": "stream",
     "text": [
      "\n",
      "\n",
      "Options\n",
      "=======\n",
      "The options below are convenience aliases to configurable class-options,\n",
      "as listed in the \"Equivalent to\" description-line of the aliases.\n",
      "To see all configurable class-options for some <cmd>, use:\n",
      "    <cmd> --help-all\n",
      "\n",
      "--debug\n",
      "    set log level to logging.DEBUG (maximize logging output)\n",
      "    Equivalent to: [--Application.log_level=10]\n",
      "--show-config\n",
      "    Show the application's configuration (human-readable format)\n",
      "    Equivalent to: [--Application.show_config=True]\n",
      "--show-config-json\n",
      "    Show the application's configuration (json format)\n",
      "    Equivalent to: [--Application.show_config_json=True]\n",
      "--generate-config\n",
      "    generate default config file\n",
      "    Equivalent to: [--JupyterApp.generate_config=True]\n",
      "-y\n",
      "    Answer yes to any questions instead of prompting.\n",
      "    Equivalent to: [--JupyterApp.answer_yes=True]\n",
      "--execute\n",
      "    Execute the notebook prior to export.\n",
      "    Equivalent to: [--ExecutePreprocessor.enabled=True]\n",
      "--allow-errors\n",
      "    Continue notebook execution even if one of the cells throws an error and include the error message in the cell output (the default behaviour is to abort conversion). This flag is only relevant if '--execute' was specified, too.\n",
      "    Equivalent to: [--ExecutePreprocessor.allow_errors=True]\n",
      "--stdin\n",
      "    read a single notebook file from stdin. Write the resulting notebook with default basename 'notebook.*'\n",
      "    Equivalent to: [--NbConvertApp.from_stdin=True]\n",
      "--stdout\n",
      "    Write notebook output to stdout instead of files.\n",
      "    Equivalent to: [--NbConvertApp.writer_class=StdoutWriter]\n",
      "--inplace\n",
      "    Run nbconvert in place, overwriting the existing notebook (only \n",
      "            relevant when converting to notebook format)\n",
      "    Equivalent to: [--NbConvertApp.use_output_suffix=False --NbConvertApp.export_format=notebook --FilesWriter.build_directory=]\n",
      "--clear-output\n",
      "    Clear output of current file and save in place, \n",
      "            overwriting the existing notebook.\n",
      "    Equivalent to: [--NbConvertApp.use_output_suffix=False --NbConvertApp.export_format=notebook --FilesWriter.build_directory= --ClearOutputPreprocessor.enabled=True]\n",
      "--no-prompt\n",
      "    Exclude input and output prompts from converted document.\n",
      "    Equivalent to: [--TemplateExporter.exclude_input_prompt=True --TemplateExporter.exclude_output_prompt=True]\n",
      "--no-input\n",
      "    Exclude input cells and output prompts from converted document. \n",
      "            This mode is ideal for generating code-free reports.\n",
      "    Equivalent to: [--TemplateExporter.exclude_output_prompt=True --TemplateExporter.exclude_input=True --TemplateExporter.exclude_input_prompt=True]\n",
      "--allow-chromium-download\n",
      "    Whether to allow downloading chromium if no suitable version is found on the system.\n",
      "    Equivalent to: [--WebPDFExporter.allow_chromium_download=True]\n",
      "--log-level=<Enum>\n",
      "    Set the log level by value or name.\n",
      "    Choices: any of [0, 10, 20, 30, 40, 50, 'DEBUG', 'INFO', 'WARN', 'ERROR', 'CRITICAL']\n",
      "    Default: 30\n",
      "    Equivalent to: [--Application.log_level]\n",
      "--config=<Unicode>\n",
      "    Full path of a config file.\n",
      "    Default: ''\n",
      "    Equivalent to: [--JupyterApp.config_file]\n",
      "--to=<Unicode>\n",
      "    The export format to be used, either one of the built-in formats\n",
      "            ['asciidoc', 'custom', 'html', 'html_ch', 'html_embed', 'html_toc', 'html_with_lenvs', 'html_with_toclenvs', 'latex', 'latex_with_lenvs', 'markdown', 'notebook', 'pdf', 'python', 'rst', 'script', 'selectLanguage', 'slides', 'slides_with_lenvs', 'webpdf']\n",
      "            or a dotted object name that represents the import path for an\n",
      "            ``Exporter`` class\n",
      "    Default: ''\n",
      "    Equivalent to: [--NbConvertApp.export_format]\n",
      "--template=<Unicode>\n",
      "    Name of the template to use\n",
      "    Default: ''\n",
      "    Equivalent to: [--TemplateExporter.template_name]\n",
      "--template-file=<Unicode>\n",
      "    Name of the template file to use\n",
      "    Default: None\n",
      "    Equivalent to: [--TemplateExporter.template_file]\n",
      "--writer=<DottedObjectName>\n",
      "    Writer class used to write the \n",
      "                                        results of the conversion\n",
      "    Default: 'FilesWriter'\n",
      "    Equivalent to: [--NbConvertApp.writer_class]\n",
      "--post=<DottedOrNone>\n",
      "    PostProcessor class used to write the\n",
      "                                        results of the conversion\n",
      "    Default: ''\n",
      "    Equivalent to: [--NbConvertApp.postprocessor_class]\n",
      "--output=<Unicode>\n",
      "    overwrite base name use for output files.\n",
      "                can only be used when converting one notebook at a time.\n",
      "    Default: ''\n",
      "    Equivalent to: [--NbConvertApp.output_base]\n",
      "--output-dir=<Unicode>\n",
      "    Directory to write output(s) to. Defaults\n",
      "                                  to output to the directory of each notebook. To recover\n",
      "                                  previous default behaviour (outputting to the current \n",
      "                                  working directory) use . as the flag value.\n",
      "    Default: ''\n",
      "    Equivalent to: [--FilesWriter.build_directory]\n",
      "--reveal-prefix=<Unicode>\n",
      "    The URL prefix for reveal.js (version 3.x).\n",
      "            This defaults to the reveal CDN, but can be any url pointing to a copy \n",
      "            of reveal.js. \n",
      "            For speaker notes to work, this must be a relative path to a local \n",
      "            copy of reveal.js: e.g., \"reveal.js\".\n",
      "            If a relative path is given, it must be a subdirectory of the\n",
      "            current directory (from which the server is run).\n",
      "            See the usage documentation\n",
      "            (https://nbconvert.readthedocs.io/en/latest/usage.html#reveal-js-html-slideshow)\n",
      "            for more details.\n",
      "    Default: ''\n",
      "    Equivalent to: [--SlidesExporter.reveal_url_prefix]\n",
      "--nbformat=<Enum>\n",
      "    The nbformat version to write.\n",
      "            Use this to downgrade notebooks.\n",
      "    Choices: any of [1, 2, 3, 4]\n",
      "    Default: 4\n",
      "    Equivalent to: [--NotebookExporter.nbformat_version]\n",
      "\n",
      "Examples\n",
      "--------\n",
      "\n",
      "    The simplest way to use nbconvert is\n",
      "\n",
      "            > jupyter nbconvert mynotebook.ipynb --to html\n",
      "\n",
      "            Options include ['asciidoc', 'custom', 'html', 'html_ch', 'html_embed', 'html_toc', 'html_with_lenvs', 'html_with_toclenvs', 'latex', 'latex_with_lenvs', 'markdown', 'notebook', 'pdf', 'python', 'rst', 'script', 'selectLanguage', 'slides', 'slides_with_lenvs', 'webpdf'].\n",
      "\n",
      "            > jupyter nbconvert --to latex mynotebook.ipynb\n",
      "\n",
      "            Both HTML and LaTeX support multiple output templates. LaTeX includes\n",
      "            'base', 'article' and 'report'.  HTML includes 'basic' and 'full'. You\n",
      "            can specify the flavor of the format used.\n",
      "\n",
      "            > jupyter nbconvert --to html --template lab mynotebook.ipynb\n",
      "\n",
      "            You can also pipe the output to stdout, rather than a file\n",
      "\n",
      "            > jupyter nbconvert mynotebook.ipynb --stdout\n",
      "\n",
      "            PDF is generated via latex\n",
      "\n",
      "            > jupyter nbconvert mynotebook.ipynb --to pdf\n",
      "\n",
      "            You can get (and serve) a Reveal.js-powered slideshow\n",
      "\n",
      "            > jupyter nbconvert myslides.ipynb --to slides --post serve\n",
      "\n",
      "            Multiple notebooks can be given at the command line in a couple of \n",
      "            different ways:\n",
      "\n",
      "            > jupyter nbconvert notebook*.ipynb\n",
      "            > jupyter nbconvert notebook1.ipynb notebook2.ipynb\n",
      "\n",
      "            or you can specify the notebooks list in a config file, containing::\n",
      "\n",
      "                c.NbConvertApp.notebooks = [\"my_notebook.ipynb\"]\n",
      "\n",
      "            > jupyter nbconvert --config mycfg.py\n",
      "\n",
      "To see all available configurables, use `--help-all`.\n",
      "\n"
     ]
    }
   ],
   "source": [
    "# The command below will generate the HTML slideshow. \n",
    "!jupyter nbconvert gobike explanatory.ipynb --to slides --post serve --no-input --no-prompt "
   ]
  },
  {
   "cell_type": "code",
   "execution_count": null,
   "id": "59d8678b",
   "metadata": {},
   "outputs": [],
   "source": []
  }
 ],
 "metadata": {
  "celltoolbar": "Slideshow",
  "kernelspec": {
   "display_name": "Python 3 (ipykernel)",
   "language": "python",
   "name": "python3"
  },
  "language_info": {
   "codemirror_mode": {
    "name": "ipython",
    "version": 3
   },
   "file_extension": ".py",
   "mimetype": "text/x-python",
   "name": "python",
   "nbconvert_exporter": "python",
   "pygments_lexer": "ipython3",
   "version": "3.9.7"
  }
 },
 "nbformat": 4,
 "nbformat_minor": 5
}
